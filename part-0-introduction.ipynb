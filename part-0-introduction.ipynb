{
 "cells": [
  {
   "cell_type": "markdown",
   "id": "0",
   "metadata": {
    "tags": []
   },
   "source": [
    "# **SunPy: Solar Data Processing with Python**\n",
    "\n",
    "![sunpy logo](images/sunpy_logo.svg)\n",
    "\n",
    "## SDO 2025 Science Workshop: A Gathering of the Helio-hive\n",
    "\n",
    "Curious about what new scientific discoveries await once you have Conda and SunPy installed?\n",
    "Often, the biggest barrier to adopting a new programming language is simply getting started.\n",
    "This tutorial is designed to help you overcome that hurdle and integrate Python into your next project with confidence.\n",
    "We'll guide you through accessing and downloading data from the Virtual Solar Observatory (VSO), creating advanced plots, and leveraging powerful data analysis tools included in Conda's packages.\n",
    "By the end, you'll be equipped to analyze datasets with ease, and discover how similar interfaces within SunPy enable seamless comparisons and overlays across various data sets.\n",
    "\n",
    "### **Micheal Kirk** (NASA GSFC) and **Nabil Freij** (SETI/LMSAL) *on behalf of the SunPy Community*\n",
    "\n",
    "### *with many thanks to: Albert Shih, Laura Hayes, David Stansby, Stuart Mumford, Pey Lian Lim, Erik Tollerud, Larry Bradley, Tim Pickering, Tom Aldcroft, David Shupe and Brett M. Morris*\n"
   ]
  },
  {
   "cell_type": "markdown",
   "id": "1",
   "metadata": {},
   "source": [
    "## What is SunPy?"
   ]
  },
  {
   "cell_type": "markdown",
   "id": "ae7e20c6",
   "metadata": {},
   "source": [
    "## The sunpy core package\n",
    "\n",
    "A community-developed free and open-source software package for solar physics.\n"
   ]
  },
  {
   "cell_type": "markdown",
   "id": "4739ff0f",
   "metadata": {},
   "source": [
    "![sunpy core summary](./images/sunpy_core.svg)\n"
   ]
  },
  {
   "cell_type": "markdown",
   "id": "2",
   "metadata": {},
   "source": [
    "## The SunPy Project\n",
    "\n",
    "To facilitate and promote the use and development of a community-led, free and open-source solar data-analysis software based on the scientific Python environment."
   ]
  },
  {
   "cell_type": "markdown",
   "id": "3",
   "metadata": {},
   "source": [
    "![sunpy core summary](./images/sunpy_project.svg)"
   ]
  },
  {
   "cell_type": "markdown",
   "id": "6",
   "metadata": {
    "tags": []
   },
   "source": [
    "## This Tutorial\n",
    "\n",
    "In this tutorial, we're going to be studying a flare and subsequent CME that was observed simultaneously by SDO/AIA, STEREO/EUVI (servers are down at time of writing), and GOES/XRS.\n",
    "Below is a quick GIF of the CME as seen by the LASCO coronagraph generated using [Helioviewer](https://helioviewer.org/)."
   ]
  },
  {
   "cell_type": "markdown",
   "id": "7",
   "metadata": {},
   "source": [
    "![foo](https://i.imgur.com/TYBKKtX.gif)"
   ]
  },
  {
   "cell_type": "markdown",
   "id": "8",
   "metadata": {},
   "source": [
    "We can use the [Solar-MACH tool, a SunPy Affiliated Package](https://solar-mach.github.io/) to easily peek at the relative positions of the spacecraft.\n",
    "The relative orientation of our three observatories, SDO, STEREO-A, and Solar Orbiter, gives us a unique opportunity to examine this eruption from multiple viewpoints.\n",
    "\n",
    "There is a notebook in this reposotiry we won't use today but provides an overview of Solar-Mach called `SolarMach_Example.ipynb`"
   ]
  },
  {
   "cell_type": "markdown",
   "id": "9",
   "metadata": {},
   "source": [
    "<img src=\"images/Solar-MACH_2022-03-28_11-00-00.png\" width=\"75%\"></img>"
   ]
  },
  {
   "cell_type": "markdown",
   "id": "bf9c8d70",
   "metadata": {},
   "source": [
    "In addition, there is a `cool_things_with_sunpy` notebook that we won't cover but has some cool code examples."
   ]
  },
  {
   "cell_type": "markdown",
   "id": "10",
   "metadata": {},
   "source": [
    "This tutorial will be covering different components:\n",
    "\n",
    "- Data Search and Download\n",
    "- Data Containers: Map and Timeseries\n",
    "- Working with Solar Coordinates\n",
    "\n",
    "We will use the above dataset to illustrate each of these components of the `sunpy` codebase.\n",
    "\n",
    "This is a compressed version of the material covered by both the [PyHC Summer School 2022](https://github.com/heliophysicsPy/summer-school/) and [PyHC Summer School 2024](https://github.com/heliophysicsPy/summer-school-24/) tutorials."
   ]
  },
  {
   "cell_type": "markdown",
   "id": "11",
   "metadata": {},
   "source": [
    "Throughout the notebook for this tutorial, there will be a few exercises to keep things interactive and break up the lecture a bit.\n",
    "These are marked in the following way:\n",
    "\n",
    "<div class=\"alert alert-block alert-warning\"\\>\n",
    "<h3><u>EXERCISE:</u>\n",
    "<br><br>This orange block denotes an exercise that involves writing a few lines of code or modifying the tutorial materials in some way.</h3>\n",
    "</div>"
   ]
  },
  {
   "cell_type": "markdown",
   "id": "12",
   "metadata": {
    "tags": []
   },
   "source": [
    "## SunPy Resources\n",
    "\n",
    "Below are a few helpful links for finding out more about SunPy, including our webpage, documentation, and our chat room:\n",
    "\n",
    "* [sunpy.org](https://sunpy.org/)\n",
    "* [sunpy Documentation](https://docs.sunpy.org/en/stable/)\n",
    "* [List of Affiliated Packages](https://sunpy.org/affiliated/)\n",
    "* [Element.io Chat Room](https://openastronomy.element.io/#/room/#sunpy:openastronomy.org)\n",
    "* [OpenAstronomy Discourse](https://community.openastronomy.org/c/sunpy/5)"
   ]
  }
 ],
 "metadata": {
  "kernelspec": {
   "display_name": "sunpy-release",
   "language": "python",
   "name": "python3"
  },
  "language_info": {
   "codemirror_mode": {
    "name": "ipython",
    "version": 3
   },
   "file_extension": ".py",
   "mimetype": "text/x-python",
   "name": "python",
   "nbconvert_exporter": "python",
   "pygments_lexer": "ipython3",
   "version": "3.13.2"
  },
  "toc-autonumbering": false,
  "toc-showmarkdowntxt": true,
  "toc-showtags": false
 },
 "nbformat": 4,
 "nbformat_minor": 5
}
